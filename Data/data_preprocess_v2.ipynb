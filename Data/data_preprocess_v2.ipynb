{
 "cells": [
  {
   "cell_type": "markdown",
   "metadata": {},
   "source": [
    "# MSOA Data Preprocessing"
   ]
  },
  {
   "cell_type": "markdown",
   "metadata": {},
   "source": [
    "The objective is to obtain the MSOA data with the following columns:\n",
    "- Vaccine uptake rates;\n",
    "- IMD Decile: 1-10;\n",
    "- Deprivation domain scores (7 domains, original score): these scores are aggregated from LSOAs.\n",
    "- Ethnic composition (asian, white, black, mixed, other);\n",
    "- pct_hh_car: percentage of households with at least one car or van\n",
    "\n",
    "Note that London MSOAs are included in this data."
   ]
  },
  {
   "cell_type": "code",
   "execution_count": 45,
   "metadata": {},
   "outputs": [],
   "source": [
    "# read the data and take a look at the shape\n",
    "import pandas as pd\n",
    "import geopandas as gpd\n",
    "import os\n",
    "import numpy as np"
   ]
  },
  {
   "cell_type": "markdown",
   "metadata": {},
   "source": [
    "## load data"
   ]
  },
  {
   "cell_type": "markdown",
   "metadata": {},
   "source": [
    "### number of people getting vaccinated\n",
    "source:\n",
    "https://www.england.nhs.uk/statistics/statistical-work-areas/covid-19-vaccinations/covid-19-vaccinations-archive/"
   ]
  },
  {
   "cell_type": "code",
   "execution_count": 46,
   "metadata": {},
   "outputs": [
    {
     "data": {
      "text/html": [
       "<div>\n",
       "<style scoped>\n",
       "    .dataframe tbody tr th:only-of-type {\n",
       "        vertical-align: middle;\n",
       "    }\n",
       "\n",
       "    .dataframe tbody tr th {\n",
       "        vertical-align: top;\n",
       "    }\n",
       "\n",
       "    .dataframe thead th {\n",
       "        text-align: right;\n",
       "    }\n",
       "</style>\n",
       "<table border=\"1\" class=\"dataframe\">\n",
       "  <thead>\n",
       "    <tr style=\"text-align: right;\">\n",
       "      <th></th>\n",
       "      <th>MSOA</th>\n",
       "      <th>18over1st_dose</th>\n",
       "      <th>18over2nd_dose</th>\n",
       "    </tr>\n",
       "  </thead>\n",
       "  <tbody>\n",
       "    <tr>\n",
       "      <th>0</th>\n",
       "      <td>E02002796</td>\n",
       "      <td>4810</td>\n",
       "      <td>4712</td>\n",
       "    </tr>\n",
       "    <tr>\n",
       "      <th>1</th>\n",
       "      <td>E02002797</td>\n",
       "      <td>5906</td>\n",
       "      <td>5796</td>\n",
       "    </tr>\n",
       "    <tr>\n",
       "      <th>2</th>\n",
       "      <td>E02002798</td>\n",
       "      <td>7919</td>\n",
       "      <td>7730</td>\n",
       "    </tr>\n",
       "    <tr>\n",
       "      <th>3</th>\n",
       "      <td>E02002799</td>\n",
       "      <td>4234</td>\n",
       "      <td>4036</td>\n",
       "    </tr>\n",
       "    <tr>\n",
       "      <th>4</th>\n",
       "      <td>E02002800</td>\n",
       "      <td>5209</td>\n",
       "      <td>5057</td>\n",
       "    </tr>\n",
       "    <tr>\n",
       "      <th>...</th>\n",
       "      <td>...</td>\n",
       "      <td>...</td>\n",
       "      <td>...</td>\n",
       "    </tr>\n",
       "    <tr>\n",
       "      <th>6784</th>\n",
       "      <td>E02002478</td>\n",
       "      <td>4317</td>\n",
       "      <td>4134</td>\n",
       "    </tr>\n",
       "    <tr>\n",
       "      <th>6785</th>\n",
       "      <td>E02002479</td>\n",
       "      <td>5990</td>\n",
       "      <td>5748</td>\n",
       "    </tr>\n",
       "    <tr>\n",
       "      <th>6786</th>\n",
       "      <td>E02002480</td>\n",
       "      <td>4001</td>\n",
       "      <td>3812</td>\n",
       "    </tr>\n",
       "    <tr>\n",
       "      <th>6787</th>\n",
       "      <td>E02002481</td>\n",
       "      <td>5043</td>\n",
       "      <td>4803</td>\n",
       "    </tr>\n",
       "    <tr>\n",
       "      <th>6788</th>\n",
       "      <td>E02002482</td>\n",
       "      <td>4754</td>\n",
       "      <td>4456</td>\n",
       "    </tr>\n",
       "  </tbody>\n",
       "</table>\n",
       "<p>6787 rows × 3 columns</p>\n",
       "</div>"
      ],
      "text/plain": [
       "           MSOA  18over1st_dose  18over2nd_dose\n",
       "0     E02002796            4810            4712\n",
       "1     E02002797            5906            5796\n",
       "2     E02002798            7919            7730\n",
       "3     E02002799            4234            4036\n",
       "4     E02002800            5209            5057\n",
       "...         ...             ...             ...\n",
       "6784  E02002478            4317            4134\n",
       "6785  E02002479            5990            5748\n",
       "6786  E02002480            4001            3812\n",
       "6787  E02002481            5043            4803\n",
       "6788  E02002482            4754            4456\n",
       "\n",
       "[6787 rows x 3 columns]"
      ]
     },
     "execution_count": 46,
     "metadata": {},
     "output_type": "execute_result"
    }
   ],
   "source": [
    "file_vaccine_uptake = 'vaccination_pop_2021_11_18.csv'\n",
    "df_vaccine_uptake = pd.read_csv(file_vaccine_uptake, low_memory=False)\n",
    "# why dropping these MSOAs? The vaccination population of these two MSOAs are combined\n",
    "df_vaccine_uptake=df_vaccine_uptake.drop(df_vaccine_uptake[df_vaccine_uptake.MSOA=='E02000001/E02000371'].index)\n",
    "df_vaccine_uptake=df_vaccine_uptake.drop(df_vaccine_uptake[df_vaccine_uptake.MSOA=='E02003950/E02006781'].index)\n",
    "df_vaccine_uptake"
   ]
  },
  {
   "cell_type": "code",
   "execution_count": 47,
   "metadata": {},
   "outputs": [
    {
     "data": {
      "text/html": [
       "<div>\n",
       "<style scoped>\n",
       "    .dataframe tbody tr th:only-of-type {\n",
       "        vertical-align: middle;\n",
       "    }\n",
       "\n",
       "    .dataframe tbody tr th {\n",
       "        vertical-align: top;\n",
       "    }\n",
       "\n",
       "    .dataframe thead th {\n",
       "        text-align: right;\n",
       "    }\n",
       "</style>\n",
       "<table border=\"1\" class=\"dataframe\">\n",
       "  <thead>\n",
       "    <tr style=\"text-align: right;\">\n",
       "      <th></th>\n",
       "      <th>MSOA</th>\n",
       "      <th>pop0_17</th>\n",
       "      <th>pop18over</th>\n",
       "    </tr>\n",
       "  </thead>\n",
       "  <tbody>\n",
       "    <tr>\n",
       "      <th>1385</th>\n",
       "      <td>E02003950</td>\n",
       "      <td>1032</td>\n",
       "      <td>4556</td>\n",
       "    </tr>\n",
       "    <tr>\n",
       "      <th>1400</th>\n",
       "      <td>E02006781</td>\n",
       "      <td>339</td>\n",
       "      <td>1887</td>\n",
       "    </tr>\n",
       "    <tr>\n",
       "      <th>5808</th>\n",
       "      <td>E02000001</td>\n",
       "      <td>1825</td>\n",
       "      <td>9113</td>\n",
       "    </tr>\n",
       "    <tr>\n",
       "      <th>6178</th>\n",
       "      <td>E02000371</td>\n",
       "      <td>2017</td>\n",
       "      <td>14892</td>\n",
       "    </tr>\n",
       "  </tbody>\n",
       "</table>\n",
       "</div>"
      ],
      "text/plain": [
       "           MSOA  pop0_17  pop18over\n",
       "1385  E02003950     1032       4556\n",
       "1400  E02006781      339       1887\n",
       "5808  E02000001     1825       9113\n",
       "6178  E02000371     2017      14892"
      ]
     },
     "execution_count": 47,
     "metadata": {},
     "output_type": "execute_result"
    }
   ],
   "source": [
    "df_pop[df_pop.MSOA.isin(['E02000001','E02000371','E02003950','E02006781'])]"
   ]
  },
  {
   "cell_type": "code",
   "execution_count": 48,
   "metadata": {},
   "outputs": [
    {
     "name": "stdout",
     "output_type": "stream",
     "text": [
      "Data frame is 7,201 x 3\n"
     ]
    }
   ],
   "source": [
    "# read population data (UK). Merge and compute uptake rates\n",
    "url = 'population_msoa_18over.csv'\n",
    "df_pop = pd.read_csv(url, low_memory=False)\n",
    "print(f\"Data frame is {df_pop.shape[0]:,} x {df_pop.shape[1]}\")"
   ]
  },
  {
   "cell_type": "code",
   "execution_count": 49,
   "metadata": {},
   "outputs": [
    {
     "name": "stdout",
     "output_type": "stream",
     "text": [
      "Data frame is 6,787 x 5\n"
     ]
    }
   ],
   "source": [
    "# merge two dataset\n",
    "df_vaccine_uptake = pd.merge(left=df_vaccine_uptake, right=df_pop, how='left', left_on='MSOA', right_on='MSOA')\n",
    "print(f\"Data frame is {df_vaccine_uptake.shape[0]:,} x {df_vaccine_uptake.shape[1]}\")\n",
    "# MSOA.drop(columns=['MSOA','OBJECTID'], axis=1,inplace=True)"
   ]
  },
  {
   "cell_type": "code",
   "execution_count": 50,
   "metadata": {},
   "outputs": [
    {
     "name": "stdout",
     "output_type": "stream",
     "text": [
      "Index(['MSOA', '18over1st_dose', '18over2nd_dose', 'pop0_17', 'pop18over',\n",
      "       'vaccination_percentage_1stdose', 'vaccination_percentage_2nddose',\n",
      "       'vaccination_percentage_total'],\n",
      "      dtype='object')\n"
     ]
    }
   ],
   "source": [
    "# compute vaccine uptake rates\n",
    "df_vaccine_uptake['vaccination_percentage_1stdose'] = df_vaccine_uptake['18over1st_dose']/df_vaccine_uptake['pop18over']\n",
    "df_vaccine_uptake['vaccination_percentage_2nddose'] = df_vaccine_uptake['18over2nd_dose']/df_vaccine_uptake['pop18over']\n",
    "df_vaccine_uptake['vaccination_percentage_total'] = (df_vaccine_uptake['18over1st_dose']+df_vaccine_uptake['18over2nd_dose'])/df_vaccine_uptake['pop18over']/2\n",
    "\n",
    "# Set vaccination rate greater than 1 to 1\n",
    "df_vaccine_uptake['vaccination_percentage_2nddose']= np.where(df_vaccine_uptake['vaccination_percentage_2nddose']>1, 1, df_vaccine_uptake['vaccination_percentage_2nddose'])\n",
    "df_vaccine_uptake['vaccination_percentage_1stdose']= np.where(df_vaccine_uptake['vaccination_percentage_1stdose']>1, 1, df_vaccine_uptake['vaccination_percentage_1stdose'])\n",
    "df_vaccine_uptake['vaccination_percentage_total']= np.where(df_vaccine_uptake['vaccination_percentage_total']>1, 1, df_vaccine_uptake['vaccination_percentage_total'])\n",
    "print(df_vaccine_uptake.columns)"
   ]
  },
  {
   "cell_type": "code",
   "execution_count": 51,
   "metadata": {},
   "outputs": [
    {
     "name": "stdout",
     "output_type": "stream",
     "text": [
      "(6787, 8)\n"
     ]
    }
   ],
   "source": [
    "print(df_vaccine_uptake.shape)"
   ]
  },
  {
   "cell_type": "markdown",
   "metadata": {},
   "source": [
    "## Add MSOA IMD decile/ethnic/car"
   ]
  },
  {
   "cell_type": "code",
   "execution_count": 54,
   "metadata": {},
   "outputs": [],
   "source": [
    "# read MSOA IMD decile file\n",
    "# Read the IMD data\n",
    "imd = pd.read_csv('imd2019_msoa_level_data.csv')\n",
    "# Read the Ethnic group data\n",
    "ethnic = pd.read_csv('ethnic_group_2011.csv')\n",
    "# read car data\n",
    "car = pd.read_csv('CARVAN_MSOAIZ_England_Scotland_Wales_Descriptions.csv')\n",
    "# Merge IMD/Ethnic/Car data\n",
    "df_vaccine_uptake = pd.merge(left=df_vaccine_uptake, right=imd[['MSOAC','IMD19 SCORE','MSOADECILE']], how='left', left_on='MSOA', right_on='MSOAC')\n",
    "df_vaccine_uptake = pd.merge(left=df_vaccine_uptake, right=ethnic, how='left', left_on='MSOA', right_on='MSOA')\n",
    "df_vaccine_uptake = pd.merge(left=df_vaccine_uptake, right=car, how='left', left_on='MSOA', right_on='GEO_CODE')"
   ]
  },
  {
   "cell_type": "code",
   "execution_count": 55,
   "metadata": {},
   "outputs": [
    {
     "name": "stdout",
     "output_type": "stream",
     "text": [
      "Index(['MSOA', '18over1st_dose', '18over2nd_dose', 'pop0_17', 'pop18over',\n",
      "       'vaccination_percentage_1stdose', 'vaccination_percentage_2nddose',\n",
      "       'vaccination_percentage_total', 'MSOAC', 'IMD19 SCORE', 'MSOADECILE',\n",
      "       'White%', 'Mixed%', 'Asian%', 'Black%', 'Other%', 'GEO_CODE',\n",
      "       'Total_households', 'Households_with_at_least_one_vars_or_vans',\n",
      "       'Per_cent_of_households_with_at_least_one_car_or_van'],\n",
      "      dtype='object')\n"
     ]
    }
   ],
   "source": [
    "print(df_vaccine_uptake.columns)"
   ]
  },
  {
   "cell_type": "code",
   "execution_count": 56,
   "metadata": {},
   "outputs": [],
   "source": [
    "# Drop useless columns\n",
    "df_vaccine_uptake = df_vaccine_uptake.drop(['MSOAC', 'Households_with_at_least_one_vars_or_vans','Total_households','GEO_CODE'], axis=1)"
   ]
  },
  {
   "cell_type": "markdown",
   "metadata": {},
   "source": [
    "## Calculate MSOA-level deprivation domain scores from LSOA data"
   ]
  },
  {
   "cell_type": "code",
   "execution_count": 68,
   "metadata": {},
   "outputs": [
    {
     "name": "stdout",
     "output_type": "stream",
     "text": [
      "(41729, 2)\n",
      "    LSOA11CD   MSOA11CD\n",
      "0  E01011966  E02002488\n",
      "1  E01011974  E02002487\n",
      "2  E01011965  E02002488\n",
      "3  E01011983  E02002488\n",
      "4  E01011950  E02002490\n",
      "8480\n",
      "Are all England MSOAs in this table?\n",
      "True\n"
     ]
    }
   ],
   "source": [
    "df_lsoa_msoa = pd.read_csv(\"LSOA_MSOA.csv\").drop_duplicates()\n",
    "print(df_lsoa_msoa.shape)\n",
    "print(df_lsoa_msoa.head())\n",
    "print(df_lsoa_msoa.MSOA11CD.nunique())\n",
    "print(\"Are all England MSOAs in this table?\")\n",
    "print(df_vaccine_uptake.MSOA.isin(df_lsoa_msoa.MSOA11CD).all())\n",
    "# print(df_vaccine_uptake.MSOA[-df_vaccine_uptake.MSOA.isin(df_lsoa_msoa.MSOA11CD)])\n",
    "# print('E02000001' in df_lsoa_msoa.MSOA11CD.unique())\n",
    "# print('E02000371' in df_lsoa_msoa.MSOA11CD.unique())\n",
    "# print('E02003950' in df_lsoa_msoa.MSOA11CD.unique())\n",
    "# print('E02006781' in df_lsoa_msoa.MSOA11CD.unique())"
   ]
  },
  {
   "cell_type": "code",
   "execution_count": 110,
   "metadata": {},
   "outputs": [],
   "source": [
    "# read LSOA deprivation data\n",
    "df_imd_lsoa = pd.read_csv(\"File_7_-_All_IoD2019_Scores__Ranks__Deciles_and_Population_Denominators_3.csv\")\n",
    "# print(df_imd_lsoa.columns)"
   ]
  },
  {
   "cell_type": "code",
   "execution_count": 111,
   "metadata": {},
   "outputs": [
    {
     "name": "stdout",
     "output_type": "stream",
     "text": [
      "(32844, 9)\n"
     ]
    }
   ],
   "source": [
    "# keep useful columns\n",
    "df_imd_lsoa = df_imd_lsoa[['LSOA code (2011)',\n",
    "                          'Income Score (rate)',\n",
    "                         'Employment Score (rate)',\n",
    "                         'Education, Skills and Training Score',\n",
    "                         'Health Deprivation and Disability Score',\n",
    "                          'Crime Score',\n",
    "                          'Barriers to Housing and Services Score',\n",
    "                          'Living Environment Score',\n",
    "                           'Total population: mid 2015 (excluding prisoners)'\n",
    "                         ]]\n",
    "print(df_imd_lsoa.shape)"
   ]
  },
  {
   "cell_type": "code",
   "execution_count": 112,
   "metadata": {},
   "outputs": [],
   "source": [
    "# add MSOA\n",
    "df_imd_lsoa = pd.merge(left=df_imd_lsoa, right=df_lsoa_msoa, how='left', left_on='LSOA code (2011)', right_on='LSOA11CD')\n",
    "# print(df_imd_lsoa[df_imd_lsoa.MSOA11CD.isna()])"
   ]
  },
  {
   "cell_type": "code",
   "execution_count": 113,
   "metadata": {},
   "outputs": [
    {
     "name": "stdout",
     "output_type": "stream",
     "text": [
      "(32844, 11)\n"
     ]
    }
   ],
   "source": [
    "print(df_imd_lsoa.shape)\n",
    "# print(df_imd_lsoa)"
   ]
  },
  {
   "cell_type": "code",
   "execution_count": 114,
   "metadata": {},
   "outputs": [
    {
     "data": {
      "text/plain": [
       "Index(['LSOA code (2011)', 'Income Score (rate)', 'Employment Score (rate)',\n",
       "       'Education, Skills and Training Score',\n",
       "       'Health Deprivation and Disability Score', 'Crime Score',\n",
       "       'Barriers to Housing and Services Score', 'Living Environment Score',\n",
       "       'Total population: mid 2015 (excluding prisoners)', 'LSOA11CD',\n",
       "       'MSOA11CD'],\n",
       "      dtype='object')"
      ]
     },
     "execution_count": 114,
     "metadata": {},
     "output_type": "execute_result"
    }
   ],
   "source": [
    "df_imd_lsoa.columns"
   ]
  },
  {
   "cell_type": "code",
   "execution_count": 117,
   "metadata": {},
   "outputs": [],
   "source": [
    "df_imd_lsoa = df_imd_lsoa.rename(columns={\"Total population: mid 2015 (excluding prisoners)\": \"pop\"})\n",
    "wm = lambda x: np.average(x, weights=df_imd_lsoa.loc[x.index, \"pop\"])\n",
    "\n",
    "# groupby MSOAs and aggregate by weighted mean on the domain scores\n",
    "# Define a lambda function to compute the weighted mean:\n",
    "\n",
    "df_imd_msoa = df_imd_lsoa.groupby('MSOA11CD').agg(income_score=(\"Income Score (rate)\", wm),  \n",
    "                                                  employ_score=(\"Employment Score (rate)\", wm),\n",
    "                                                  edu_score=(\"Education, Skills and Training Score\", wm),\n",
    "                                                  health_score=(\"Health Deprivation and Disability Score\", wm),\n",
    "                                                  crime_score=(\"Crime Score\", wm),\n",
    "                                                  housing_score=(\"Barriers to Housing and Services Score\", wm),\n",
    "                                                  livEnv_score=(\"Living Environment Score\", wm),\n",
    "                                                 )"
   ]
  },
  {
   "cell_type": "code",
   "execution_count": 120,
   "metadata": {},
   "outputs": [],
   "source": [
    "df_imd_msoa = df_imd_msoa.reset_index()"
   ]
  },
  {
   "cell_type": "code",
   "execution_count": 121,
   "metadata": {},
   "outputs": [],
   "source": [
    "# merge with df_vaccine_uptake\n",
    "df_vaccine_uptake = pd.merge(left=df_vaccine_uptake, right=df_imd_msoa, how='left', left_on='MSOA', right_on='MSOA11CD')"
   ]
  },
  {
   "cell_type": "code",
   "execution_count": 129,
   "metadata": {},
   "outputs": [],
   "source": [
    "df_vaccine_uptake = df_vaccine_uptake.rename(columns={'MSOADECILE':'msoa_imd_decile', 'White%':'pct_White', 'Mixed%':'pct_Mixed',\n",
    "                                                     'Asian%':'pct_Asian', 'Black%':'pct_black','Other%':'pct_other',\n",
    "                                                      'Per_cent_of_households_with_at_least_one_car_or_van':'pct_hh_car'})"
   ]
  },
  {
   "cell_type": "code",
   "execution_count": 130,
   "metadata": {},
   "outputs": [],
   "source": [
    "df_vaccine_uptake.to_csv('vaccine_uptake_socioeco.csv')"
   ]
  },
  {
   "cell_type": "code",
   "execution_count": 128,
   "metadata": {},
   "outputs": [],
   "source": [
    "## Do not run the cells below"
   ]
  },
  {
   "cell_type": "markdown",
   "metadata": {},
   "source": [
    "### read population data (mid2020 csv)"
   ]
  },
  {
   "cell_type": "markdown",
   "metadata": {},
   "source": [
    "source:\n",
    "https://www.ons.gov.uk/peoplepopulationandcommunity/populationandmigration/populationestimates/datasets/middlesuperoutputareamidyearpopulationestimates"
   ]
  },
  {
   "cell_type": "code",
   "execution_count": 3,
   "metadata": {},
   "outputs": [
    {
     "name": "stdout",
     "output_type": "stream",
     "text": [
      "Data frame is 7,201 x 3\n"
     ]
    }
   ],
   "source": [
    "url = 'population_msoa_18over.csv'\n",
    "df = pd.read_csv(url, low_memory=False)\n",
    "print(f\"Data frame is {df.shape[0]:,} x {df.shape[1]}\")"
   ]
  },
  {
   "cell_type": "code",
   "execution_count": 4,
   "metadata": {},
   "outputs": [
    {
     "data": {
      "text/html": [
       "<div>\n",
       "<style scoped>\n",
       "    .dataframe tbody tr th:only-of-type {\n",
       "        vertical-align: middle;\n",
       "    }\n",
       "\n",
       "    .dataframe tbody tr th {\n",
       "        vertical-align: top;\n",
       "    }\n",
       "\n",
       "    .dataframe thead th {\n",
       "        text-align: right;\n",
       "    }\n",
       "</style>\n",
       "<table border=\"1\" class=\"dataframe\">\n",
       "  <thead>\n",
       "    <tr style=\"text-align: right;\">\n",
       "      <th></th>\n",
       "      <th>MSOA</th>\n",
       "      <th>pop0_17</th>\n",
       "      <th>pop18over</th>\n",
       "    </tr>\n",
       "  </thead>\n",
       "  <tbody>\n",
       "    <tr>\n",
       "      <th>0</th>\n",
       "      <td>E02002483</td>\n",
       "      <td>2362</td>\n",
       "      <td>7970</td>\n",
       "    </tr>\n",
       "    <tr>\n",
       "      <th>1</th>\n",
       "      <td>E02002484</td>\n",
       "      <td>2400</td>\n",
       "      <td>8040</td>\n",
       "    </tr>\n",
       "    <tr>\n",
       "      <th>2</th>\n",
       "      <td>E02002485</td>\n",
       "      <td>1987</td>\n",
       "      <td>6178</td>\n",
       "    </tr>\n",
       "    <tr>\n",
       "      <th>3</th>\n",
       "      <td>E02002487</td>\n",
       "      <td>934</td>\n",
       "      <td>4240</td>\n",
       "    </tr>\n",
       "    <tr>\n",
       "      <th>4</th>\n",
       "      <td>E02002488</td>\n",
       "      <td>1145</td>\n",
       "      <td>4749</td>\n",
       "    </tr>\n",
       "    <tr>\n",
       "      <th>...</th>\n",
       "      <td>...</td>\n",
       "      <td>...</td>\n",
       "      <td>...</td>\n",
       "    </tr>\n",
       "    <tr>\n",
       "      <th>7196</th>\n",
       "      <td>W02000286</td>\n",
       "      <td>1463</td>\n",
       "      <td>5505</td>\n",
       "    </tr>\n",
       "    <tr>\n",
       "      <th>7197</th>\n",
       "      <td>W02000287</td>\n",
       "      <td>1714</td>\n",
       "      <td>6784</td>\n",
       "    </tr>\n",
       "    <tr>\n",
       "      <th>7198</th>\n",
       "      <td>W02000288</td>\n",
       "      <td>1636</td>\n",
       "      <td>6465</td>\n",
       "    </tr>\n",
       "    <tr>\n",
       "      <th>7199</th>\n",
       "      <td>W02000289</td>\n",
       "      <td>1812</td>\n",
       "      <td>6973</td>\n",
       "    </tr>\n",
       "    <tr>\n",
       "      <th>7200</th>\n",
       "      <td>W02000415</td>\n",
       "      <td>2526</td>\n",
       "      <td>7246</td>\n",
       "    </tr>\n",
       "  </tbody>\n",
       "</table>\n",
       "<p>7201 rows × 3 columns</p>\n",
       "</div>"
      ],
      "text/plain": [
       "           MSOA  pop0_17  pop18over\n",
       "0     E02002483     2362       7970\n",
       "1     E02002484     2400       8040\n",
       "2     E02002485     1987       6178\n",
       "3     E02002487      934       4240\n",
       "4     E02002488     1145       4749\n",
       "...         ...      ...        ...\n",
       "7196  W02000286     1463       5505\n",
       "7197  W02000287     1714       6784\n",
       "7198  W02000288     1636       6465\n",
       "7199  W02000289     1812       6973\n",
       "7200  W02000415     2526       7246\n",
       "\n",
       "[7201 rows x 3 columns]"
      ]
     },
     "execution_count": 4,
     "metadata": {},
     "output_type": "execute_result"
    }
   ],
   "source": [
    "df"
   ]
  },
  {
   "cell_type": "markdown",
   "metadata": {},
   "source": [
    "### read MSOA boundary data (and exclude London region)"
   ]
  },
  {
   "cell_type": "markdown",
   "metadata": {},
   "source": [
    "source:\n",
    "https://geoportal.statistics.gov.uk/datasets/ons::middle-layer-super-output-areas-december-2011-boundaries-super-generalised-clipped-bsc-ew-v3/about"
   ]
  },
  {
   "cell_type": "code",
   "execution_count": 3,
   "metadata": {},
   "outputs": [],
   "source": [
    "msoa = gpd.read_file('MSOA_boundary.gpkg')\n",
    "msoa = msoa.to_crs('epsg:27700')"
   ]
  },
  {
   "cell_type": "markdown",
   "metadata": {},
   "source": [
    "drop useless columns"
   ]
  },
  {
   "cell_type": "code",
   "execution_count": 4,
   "metadata": {},
   "outputs": [],
   "source": [
    "drop_column = ['MSOA11NMW','BNG_E','BNG_N','LONG','LAT','Shape__Length','Shape__Area']\n",
    "msoa.drop(columns=drop_column, axis=1,inplace=True)"
   ]
  },
  {
   "cell_type": "markdown",
   "metadata": {},
   "source": [
    "filter the data, only leave england data"
   ]
  },
  {
   "cell_type": "code",
   "execution_count": 5,
   "metadata": {},
   "outputs": [
    {
     "data": {
      "text/plain": [
       "(6791, 4)"
      ]
     },
     "execution_count": 5,
     "metadata": {},
     "output_type": "execute_result"
    }
   ],
   "source": [
    "msoa = msoa[msoa.MSOA11CD.str.startswith('E')]\n",
    "msoa.shape"
   ]
  },
  {
   "cell_type": "markdown",
   "metadata": {},
   "source": [
    "Drop rows that are have problem"
   ]
  },
  {
   "cell_type": "code",
   "execution_count": 45,
   "metadata": {},
   "outputs": [],
   "source": [
    "msoa=msoa.drop(msoa[msoa.MSOA11CD=='E02000001'].index)\n",
    "msoa=msoa.drop(msoa[msoa.MSOA11CD=='E02000371'].index)\n",
    "msoa=msoa.drop(msoa[msoa.MSOA11CD=='E02003950'].index)\n",
    "msoa=msoa.drop(msoa[msoa.MSOA11CD=='E02006781'].index)"
   ]
  },
  {
   "cell_type": "markdown",
   "metadata": {},
   "source": [
    "join population data"
   ]
  },
  {
   "cell_type": "code",
   "execution_count": 46,
   "metadata": {},
   "outputs": [],
   "source": [
    "MSOA = pd.merge(left=msoa, right=df, how='left', left_on='MSOA11CD', right_on='MSOA')\n",
    "MSOA.drop(columns=['MSOA','OBJECTID'], axis=1,inplace=True)"
   ]
  },
  {
   "cell_type": "markdown",
   "metadata": {},
   "source": [
    "Exclude London region"
   ]
  },
  {
   "cell_type": "code",
   "execution_count": 47,
   "metadata": {},
   "outputs": [],
   "source": [
    "LA_MSOA = pd.read_csv('LA_MSOA_code.csv', low_memory=False)\n",
    "aaa = pd.merge(left=MSOA, right=LA_MSOA, how='left', left_on='MSOA11CD', right_on='MSOA Code')\n",
    "aaa.drop(columns=['LA_name_2020','MSOA Code'], axis=1,inplace=True)"
   ]
  },
  {
   "cell_type": "code",
   "execution_count": 48,
   "metadata": {},
   "outputs": [],
   "source": [
    "London = gpd.read_file('London_Boroughs.gpkg')\n",
    "London = London.to_crs('epsg:27700')\n",
    "London.drop(columns=['objectid','name','hectares','nonld_area','ons_inner','sub_2011','geometry'], axis=1,inplace=True)"
   ]
  },
  {
   "cell_type": "code",
   "execution_count": 49,
   "metadata": {},
   "outputs": [
    {
     "data": {
      "text/html": [
       "<div>\n",
       "<style scoped>\n",
       "    .dataframe tbody tr th:only-of-type {\n",
       "        vertical-align: middle;\n",
       "    }\n",
       "\n",
       "    .dataframe tbody tr th {\n",
       "        vertical-align: top;\n",
       "    }\n",
       "\n",
       "    .dataframe thead th {\n",
       "        text-align: right;\n",
       "    }\n",
       "</style>\n",
       "<table border=\"1\" class=\"dataframe\">\n",
       "  <thead>\n",
       "    <tr style=\"text-align: right;\">\n",
       "      <th></th>\n",
       "      <th>MSOA11CD</th>\n",
       "      <th>MSOA11NM</th>\n",
       "      <th>geometry</th>\n",
       "      <th>pop0_17</th>\n",
       "      <th>pop18over</th>\n",
       "    </tr>\n",
       "  </thead>\n",
       "  <tbody>\n",
       "    <tr>\n",
       "      <th>0</th>\n",
       "      <td>E02000984</td>\n",
       "      <td>Bolton 001</td>\n",
       "      <td>POLYGON ((372121.741 414318.582, 372147.184 41...</td>\n",
       "      <td>1462</td>\n",
       "      <td>5998</td>\n",
       "    </tr>\n",
       "    <tr>\n",
       "      <th>1</th>\n",
       "      <td>E02000985</td>\n",
       "      <td>Bolton 002</td>\n",
       "      <td>POLYGON ((372971.325 411456.076, 373104.966 41...</td>\n",
       "      <td>1328</td>\n",
       "      <td>5968</td>\n",
       "    </tr>\n",
       "    <tr>\n",
       "      <th>2</th>\n",
       "      <td>E02000986</td>\n",
       "      <td>Bolton 003</td>\n",
       "      <td>POLYGON ((372147.184 413616.095, 372503.949 41...</td>\n",
       "      <td>1714</td>\n",
       "      <td>6758</td>\n",
       "    </tr>\n",
       "    <tr>\n",
       "      <th>3</th>\n",
       "      <td>E02000987</td>\n",
       "      <td>Bolton 004</td>\n",
       "      <td>POLYGON ((363078.556 411480.529, 363041.920 41...</td>\n",
       "      <td>1251</td>\n",
       "      <td>5891</td>\n",
       "    </tr>\n",
       "    <tr>\n",
       "      <th>4</th>\n",
       "      <td>E02000988</td>\n",
       "      <td>Bolton 005</td>\n",
       "      <td>POLYGON ((371044.136 412457.779, 371567.570 41...</td>\n",
       "      <td>2176</td>\n",
       "      <td>6749</td>\n",
       "    </tr>\n",
       "    <tr>\n",
       "      <th>...</th>\n",
       "      <td>...</td>\n",
       "      <td>...</td>\n",
       "      <td>...</td>\n",
       "      <td>...</td>\n",
       "      <td>...</td>\n",
       "    </tr>\n",
       "    <tr>\n",
       "      <th>5801</th>\n",
       "      <td>E02006922</td>\n",
       "      <td>Colchester 022</td>\n",
       "      <td>MULTIPOLYGON (((601481.105 224815.326, 601485....</td>\n",
       "      <td>2699</td>\n",
       "      <td>11342</td>\n",
       "    </tr>\n",
       "    <tr>\n",
       "      <th>5802</th>\n",
       "      <td>E02006926</td>\n",
       "      <td>Thurrock 020</td>\n",
       "      <td>POLYGON ((561100.600 178929.667, 560928.979 17...</td>\n",
       "      <td>2342</td>\n",
       "      <td>5982</td>\n",
       "    </tr>\n",
       "    <tr>\n",
       "      <th>5803</th>\n",
       "      <td>E02006932</td>\n",
       "      <td>Liverpool 060</td>\n",
       "      <td>POLYGON ((335757.632 390987.474, 335739.219 39...</td>\n",
       "      <td>511</td>\n",
       "      <td>18899</td>\n",
       "    </tr>\n",
       "    <tr>\n",
       "      <th>5804</th>\n",
       "      <td>E02006933</td>\n",
       "      <td>Liverpool 061</td>\n",
       "      <td>POLYGON ((335096.788 389638.891, 334715.024 38...</td>\n",
       "      <td>654</td>\n",
       "      <td>8174</td>\n",
       "    </tr>\n",
       "    <tr>\n",
       "      <th>5805</th>\n",
       "      <td>E02006934</td>\n",
       "      <td>Liverpool 062</td>\n",
       "      <td>POLYGON ((334805.261 391362.101, 334590.333 39...</td>\n",
       "      <td>373</td>\n",
       "      <td>8365</td>\n",
       "    </tr>\n",
       "  </tbody>\n",
       "</table>\n",
       "<p>5806 rows × 5 columns</p>\n",
       "</div>"
      ],
      "text/plain": [
       "       MSOA11CD        MSOA11NM  \\\n",
       "0     E02000984      Bolton 001   \n",
       "1     E02000985      Bolton 002   \n",
       "2     E02000986      Bolton 003   \n",
       "3     E02000987      Bolton 004   \n",
       "4     E02000988      Bolton 005   \n",
       "...         ...             ...   \n",
       "5801  E02006922  Colchester 022   \n",
       "5802  E02006926    Thurrock 020   \n",
       "5803  E02006932   Liverpool 060   \n",
       "5804  E02006933   Liverpool 061   \n",
       "5805  E02006934   Liverpool 062   \n",
       "\n",
       "                                               geometry  pop0_17  pop18over  \n",
       "0     POLYGON ((372121.741 414318.582, 372147.184 41...     1462       5998  \n",
       "1     POLYGON ((372971.325 411456.076, 373104.966 41...     1328       5968  \n",
       "2     POLYGON ((372147.184 413616.095, 372503.949 41...     1714       6758  \n",
       "3     POLYGON ((363078.556 411480.529, 363041.920 41...     1251       5891  \n",
       "4     POLYGON ((371044.136 412457.779, 371567.570 41...     2176       6749  \n",
       "...                                                 ...      ...        ...  \n",
       "5801  MULTIPOLYGON (((601481.105 224815.326, 601485....     2699      11342  \n",
       "5802  POLYGON ((561100.600 178929.667, 560928.979 17...     2342       5982  \n",
       "5803  POLYGON ((335757.632 390987.474, 335739.219 39...      511      18899  \n",
       "5804  POLYGON ((335096.788 389638.891, 334715.024 38...      654       8174  \n",
       "5805  POLYGON ((334805.261 391362.101, 334590.333 39...      373       8365  \n",
       "\n",
       "[5806 rows x 5 columns]"
      ]
     },
     "execution_count": 49,
     "metadata": {},
     "output_type": "execute_result"
    }
   ],
   "source": [
    "aaa = pd.merge(left=aaa, right=London, how='left', left_on='LA_Code_2020', right_on='gss_code')\n",
    "MSOA_excludeLondon=aaa[aaa.isnull().T.any()].reset_index()\n",
    "MSOA_excludeLondon.drop(columns=['index','LA_Code_2020','gss_code'], axis=1,inplace=True)\n",
    "MSOA_excludeLondon"
   ]
  },
  {
   "cell_type": "markdown",
   "metadata": {},
   "source": [
    "### read MSOA population weighted centroids data"
   ]
  },
  {
   "cell_type": "markdown",
   "metadata": {},
   "source": [
    "set population weighted centroids as demand point\n",
    "\n",
    "source:\n",
    "https://geoportal.statistics.gov.uk/datasets/ons::middle-layer-super-output-areas-december-2011-population-weighted-centroids/about"
   ]
  },
  {
   "cell_type": "code",
   "execution_count": 13,
   "metadata": {},
   "outputs": [],
   "source": [
    "demand = gpd.read_file('https://github.com/LingruFeng/dissertation/blob/main/data_raw/MSOA_Population_Weighted_Centroids.gpkg?raw=true')\n",
    "demand = demand.to_crs('epsg:27700')"
   ]
  },
  {
   "cell_type": "markdown",
   "metadata": {},
   "source": [
    "filter the data, only leave england data"
   ]
  },
  {
   "cell_type": "code",
   "execution_count": 14,
   "metadata": {},
   "outputs": [
    {
     "data": {
      "text/plain": [
       "(6791, 4)"
      ]
     },
     "execution_count": 14,
     "metadata": {},
     "output_type": "execute_result"
    }
   ],
   "source": [
    "demand = demand[demand.msoa11cd.str.startswith('E')]\n",
    "demand.shape"
   ]
  },
  {
   "cell_type": "code",
   "execution_count": 15,
   "metadata": {},
   "outputs": [],
   "source": [
    "demand = pd.merge(left=demand, right=df, how='left', left_on='msoa11cd', right_on='MSOA')\n",
    "demand.drop(columns=['MSOA','msoa11nm'], axis=1,inplace=True)"
   ]
  },
  {
   "cell_type": "code",
   "execution_count": 16,
   "metadata": {},
   "outputs": [
    {
     "data": {
      "text/html": [
       "<div>\n",
       "<style scoped>\n",
       "    .dataframe tbody tr th:only-of-type {\n",
       "        vertical-align: middle;\n",
       "    }\n",
       "\n",
       "    .dataframe tbody tr th {\n",
       "        vertical-align: top;\n",
       "    }\n",
       "\n",
       "    .dataframe thead th {\n",
       "        text-align: right;\n",
       "    }\n",
       "</style>\n",
       "<table border=\"1\" class=\"dataframe\">\n",
       "  <thead>\n",
       "    <tr style=\"text-align: right;\">\n",
       "      <th></th>\n",
       "      <th>objectid</th>\n",
       "      <th>msoa11cd</th>\n",
       "      <th>geometry</th>\n",
       "      <th>pop0_17</th>\n",
       "      <th>pop18over</th>\n",
       "    </tr>\n",
       "  </thead>\n",
       "  <tbody>\n",
       "    <tr>\n",
       "      <th>0</th>\n",
       "      <td>1</td>\n",
       "      <td>E02002536</td>\n",
       "      <td>POINT (445582.345 524175.434)</td>\n",
       "      <td>2171</td>\n",
       "      <td>7556</td>\n",
       "    </tr>\n",
       "    <tr>\n",
       "      <th>1</th>\n",
       "      <td>2</td>\n",
       "      <td>E02002537</td>\n",
       "      <td>POINT (446777.151 524256.841)</td>\n",
       "      <td>2286</td>\n",
       "      <td>6293</td>\n",
       "    </tr>\n",
       "    <tr>\n",
       "      <th>2</th>\n",
       "      <td>3</td>\n",
       "      <td>E02002534</td>\n",
       "      <td>POINT (461356.929 515118.900)</td>\n",
       "      <td>833</td>\n",
       "      <td>4806</td>\n",
       "    </tr>\n",
       "    <tr>\n",
       "      <th>3</th>\n",
       "      <td>4</td>\n",
       "      <td>E02002535</td>\n",
       "      <td>POINT (446117.027 525455.836)</td>\n",
       "      <td>1640</td>\n",
       "      <td>7615</td>\n",
       "    </tr>\n",
       "    <tr>\n",
       "      <th>4</th>\n",
       "      <td>5</td>\n",
       "      <td>E02002532</td>\n",
       "      <td>POINT (461053.212 516175.379)</td>\n",
       "      <td>1248</td>\n",
       "      <td>5559</td>\n",
       "    </tr>\n",
       "    <tr>\n",
       "      <th>...</th>\n",
       "      <td>...</td>\n",
       "      <td>...</td>\n",
       "      <td>...</td>\n",
       "      <td>...</td>\n",
       "      <td>...</td>\n",
       "    </tr>\n",
       "    <tr>\n",
       "      <th>6786</th>\n",
       "      <td>6787</td>\n",
       "      <td>E02004669</td>\n",
       "      <td>POINT (393469.114 227500.260)</td>\n",
       "      <td>1468</td>\n",
       "      <td>6161</td>\n",
       "    </tr>\n",
       "    <tr>\n",
       "      <th>6787</th>\n",
       "      <td>6788</td>\n",
       "      <td>E02006096</td>\n",
       "      <td>POINT (332829.367 109219.836)</td>\n",
       "      <td>1451</td>\n",
       "      <td>5570</td>\n",
       "    </tr>\n",
       "    <tr>\n",
       "      <th>6788</th>\n",
       "      <td>6789</td>\n",
       "      <td>E02003088</td>\n",
       "      <td>POINT (343276.340 158947.520)</td>\n",
       "      <td>1706</td>\n",
       "      <td>6910</td>\n",
       "    </tr>\n",
       "    <tr>\n",
       "      <th>6789</th>\n",
       "      <td>6790</td>\n",
       "      <td>E02006070</td>\n",
       "      <td>POINT (331710.269 136880.200)</td>\n",
       "      <td>1893</td>\n",
       "      <td>6627</td>\n",
       "    </tr>\n",
       "    <tr>\n",
       "      <th>6790</th>\n",
       "      <td>6791</td>\n",
       "      <td>E02006679</td>\n",
       "      <td>POINT (390561.555 162786.953)</td>\n",
       "      <td>2572</td>\n",
       "      <td>9007</td>\n",
       "    </tr>\n",
       "  </tbody>\n",
       "</table>\n",
       "<p>6791 rows × 5 columns</p>\n",
       "</div>"
      ],
      "text/plain": [
       "      objectid   msoa11cd                       geometry  pop0_17  pop18over\n",
       "0            1  E02002536  POINT (445582.345 524175.434)     2171       7556\n",
       "1            2  E02002537  POINT (446777.151 524256.841)     2286       6293\n",
       "2            3  E02002534  POINT (461356.929 515118.900)      833       4806\n",
       "3            4  E02002535  POINT (446117.027 525455.836)     1640       7615\n",
       "4            5  E02002532  POINT (461053.212 516175.379)     1248       5559\n",
       "...        ...        ...                            ...      ...        ...\n",
       "6786      6787  E02004669  POINT (393469.114 227500.260)     1468       6161\n",
       "6787      6788  E02006096  POINT (332829.367 109219.836)     1451       5570\n",
       "6788      6789  E02003088  POINT (343276.340 158947.520)     1706       6910\n",
       "6789      6790  E02006070  POINT (331710.269 136880.200)     1893       6627\n",
       "6790      6791  E02006679  POINT (390561.555 162786.953)     2572       9007\n",
       "\n",
       "[6791 rows x 5 columns]"
      ]
     },
     "execution_count": 16,
     "metadata": {},
     "output_type": "execute_result"
    }
   ],
   "source": [
    "demand"
   ]
  },
  {
   "cell_type": "markdown",
   "metadata": {},
   "source": [
    "## read vaccination site point data, clean and reformat"
   ]
  },
  {
   "cell_type": "code",
   "execution_count": 33,
   "metadata": {},
   "outputs": [],
   "source": [
    "hospital = gpd.read_file('site_final/final/hospital_hub.gpkg')\n",
    "hospital = hospital.to_crs('epsg:27700')\n",
    "\n",
    "pharmacy = gpd.read_file('site_final/final/pharmacy.gpkg')\n",
    "pharmacy = pharmacy.to_crs('epsg:27700')\n",
    "\n",
    "GP = gpd.read_file('site_final/final/GP.gpkg')\n",
    "GP = GP.to_crs('epsg:27700')\n",
    "\n",
    "vc = gpd.read_file('site_final/final/vaccination_center.gpkg')\n",
    "vc = vc.to_crs('epsg:27700')"
   ]
  },
  {
   "cell_type": "code",
   "execution_count": 34,
   "metadata": {},
   "outputs": [],
   "source": [
    "# Drop useless columns\n",
    "hospital=hospital[['geometry']]\n",
    "pharmacy=pharmacy[['geometry']]\n",
    "GP=GP[['geometry']]\n",
    "vc=vc[['geometry']]"
   ]
  },
  {
   "cell_type": "code",
   "execution_count": 35,
   "metadata": {},
   "outputs": [
    {
     "name": "stdout",
     "output_type": "stream",
     "text": [
      "Hospital Hub number: 228\n",
      "GP: 1055\n",
      "Pharmacy: 1446\n",
      "Vaccination Center number: 105\n",
      "Total: 2834\n"
     ]
    }
   ],
   "source": [
    "print(\"Hospital Hub number:\",hospital.shape[0])\n",
    "print(\"GP:\",GP.shape[0])\n",
    "print(\"Pharmacy:\",pharmacy.shape[0])\n",
    "print(\"Vaccination Center number:\",vc.shape[0])\n",
    "print(\"Total:\",vc.shape[0]+pharmacy.shape[0]+hospital.shape[0]+GP.shape[0])"
   ]
  },
  {
   "cell_type": "code",
   "execution_count": 36,
   "metadata": {},
   "outputs": [],
   "source": [
    "# concat four types of vaccination site data into one dataframe\n",
    "site = pd.concat([hospital, GP, pharmacy, vc], axis=0, ignore_index=True).reset_index()"
   ]
  },
  {
   "cell_type": "code",
   "execution_count": 37,
   "metadata": {},
   "outputs": [
    {
     "data": {
      "text/html": [
       "<div>\n",
       "<style scoped>\n",
       "    .dataframe tbody tr th:only-of-type {\n",
       "        vertical-align: middle;\n",
       "    }\n",
       "\n",
       "    .dataframe tbody tr th {\n",
       "        vertical-align: top;\n",
       "    }\n",
       "\n",
       "    .dataframe thead th {\n",
       "        text-align: right;\n",
       "    }\n",
       "</style>\n",
       "<table border=\"1\" class=\"dataframe\">\n",
       "  <thead>\n",
       "    <tr style=\"text-align: right;\">\n",
       "      <th></th>\n",
       "      <th>index</th>\n",
       "      <th>geometry</th>\n",
       "      <th>supply_value</th>\n",
       "    </tr>\n",
       "  </thead>\n",
       "  <tbody>\n",
       "    <tr>\n",
       "      <th>0</th>\n",
       "      <td>0</td>\n",
       "      <td>POINT (527671.845 409625.582)</td>\n",
       "      <td>1</td>\n",
       "    </tr>\n",
       "    <tr>\n",
       "      <th>1</th>\n",
       "      <td>1</td>\n",
       "      <td>POINT (532582.907 182659.957)</td>\n",
       "      <td>1</td>\n",
       "    </tr>\n",
       "    <tr>\n",
       "      <th>2</th>\n",
       "      <td>2</td>\n",
       "      <td>POINT (433880.091 387238.877)</td>\n",
       "      <td>1</td>\n",
       "    </tr>\n",
       "    <tr>\n",
       "      <th>3</th>\n",
       "      <td>3</td>\n",
       "      <td>POINT (546372.813 254986.453)</td>\n",
       "      <td>1</td>\n",
       "    </tr>\n",
       "    <tr>\n",
       "      <th>4</th>\n",
       "      <td>4</td>\n",
       "      <td>POINT (338131.255 397000.897)</td>\n",
       "      <td>1</td>\n",
       "    </tr>\n",
       "    <tr>\n",
       "      <th>...</th>\n",
       "      <td>...</td>\n",
       "      <td>...</td>\n",
       "      <td>...</td>\n",
       "    </tr>\n",
       "    <tr>\n",
       "      <th>2829</th>\n",
       "      <td>2829</td>\n",
       "      <td>POINT (301789.330 89707.897)</td>\n",
       "      <td>1</td>\n",
       "    </tr>\n",
       "    <tr>\n",
       "      <th>2830</th>\n",
       "      <td>2830</td>\n",
       "      <td>POINT (361632.845 178155.149)</td>\n",
       "      <td>1</td>\n",
       "    </tr>\n",
       "    <tr>\n",
       "      <th>2831</th>\n",
       "      <td>2831</td>\n",
       "      <td>POINT (297993.791 145504.134)</td>\n",
       "      <td>1</td>\n",
       "    </tr>\n",
       "    <tr>\n",
       "      <th>2832</th>\n",
       "      <td>2832</td>\n",
       "      <td>POINT (166574.610 27864.985)</td>\n",
       "      <td>1</td>\n",
       "    </tr>\n",
       "    <tr>\n",
       "      <th>2833</th>\n",
       "      <td>2833</td>\n",
       "      <td>POINT (411856.496 92455.896)</td>\n",
       "      <td>1</td>\n",
       "    </tr>\n",
       "  </tbody>\n",
       "</table>\n",
       "<p>2834 rows × 3 columns</p>\n",
       "</div>"
      ],
      "text/plain": [
       "      index                       geometry  supply_value\n",
       "0         0  POINT (527671.845 409625.582)             1\n",
       "1         1  POINT (532582.907 182659.957)             1\n",
       "2         2  POINT (433880.091 387238.877)             1\n",
       "3         3  POINT (546372.813 254986.453)             1\n",
       "4         4  POINT (338131.255 397000.897)             1\n",
       "...     ...                            ...           ...\n",
       "2829   2829   POINT (301789.330 89707.897)             1\n",
       "2830   2830  POINT (361632.845 178155.149)             1\n",
       "2831   2831  POINT (297993.791 145504.134)             1\n",
       "2832   2832   POINT (166574.610 27864.985)             1\n",
       "2833   2833   POINT (411856.496 92455.896)             1\n",
       "\n",
       "[2834 rows x 3 columns]"
      ]
     },
     "execution_count": 37,
     "metadata": {},
     "output_type": "execute_result"
    }
   ],
   "source": [
    "site['supply_value']=1\n",
    "site"
   ]
  },
  {
   "cell_type": "markdown",
   "metadata": {},
   "source": [
    "## Export the data"
   ]
  },
  {
   "cell_type": "code",
   "execution_count": 38,
   "metadata": {},
   "outputs": [],
   "source": [
    "site.to_file(\"vaccination_site.gpkg\", driver=\"GPKG\")"
   ]
  },
  {
   "cell_type": "code",
   "execution_count": 51,
   "metadata": {},
   "outputs": [],
   "source": [
    "MSOA_excludeLondon.to_file(\"MSOA_Boundary_with_population_excludeLondon.gpkg\", driver=\"GPKG\")"
   ]
  },
  {
   "cell_type": "code",
   "execution_count": 30,
   "metadata": {},
   "outputs": [],
   "source": [
    "demand.to_file(\"MSOA_Population_Weighted_Centroids_with_population.gpkg\", driver=\"GPKG\")"
   ]
  },
  {
   "cell_type": "code",
   "execution_count": 50,
   "metadata": {},
   "outputs": [
    {
     "data": {
      "text/html": [
       "<div>\n",
       "<style scoped>\n",
       "    .dataframe tbody tr th:only-of-type {\n",
       "        vertical-align: middle;\n",
       "    }\n",
       "\n",
       "    .dataframe tbody tr th {\n",
       "        vertical-align: top;\n",
       "    }\n",
       "\n",
       "    .dataframe thead th {\n",
       "        text-align: right;\n",
       "    }\n",
       "</style>\n",
       "<table border=\"1\" class=\"dataframe\">\n",
       "  <thead>\n",
       "    <tr style=\"text-align: right;\">\n",
       "      <th></th>\n",
       "      <th>MSOA11CD</th>\n",
       "      <th>MSOA11NM</th>\n",
       "      <th>geometry</th>\n",
       "      <th>pop0_17</th>\n",
       "      <th>pop18over</th>\n",
       "    </tr>\n",
       "  </thead>\n",
       "  <tbody>\n",
       "    <tr>\n",
       "      <th>0</th>\n",
       "      <td>E02000984</td>\n",
       "      <td>Bolton 001</td>\n",
       "      <td>POLYGON ((372121.741 414318.582, 372147.184 41...</td>\n",
       "      <td>1462</td>\n",
       "      <td>5998</td>\n",
       "    </tr>\n",
       "    <tr>\n",
       "      <th>1</th>\n",
       "      <td>E02000985</td>\n",
       "      <td>Bolton 002</td>\n",
       "      <td>POLYGON ((372971.325 411456.076, 373104.966 41...</td>\n",
       "      <td>1328</td>\n",
       "      <td>5968</td>\n",
       "    </tr>\n",
       "    <tr>\n",
       "      <th>2</th>\n",
       "      <td>E02000986</td>\n",
       "      <td>Bolton 003</td>\n",
       "      <td>POLYGON ((372147.184 413616.095, 372503.949 41...</td>\n",
       "      <td>1714</td>\n",
       "      <td>6758</td>\n",
       "    </tr>\n",
       "    <tr>\n",
       "      <th>3</th>\n",
       "      <td>E02000987</td>\n",
       "      <td>Bolton 004</td>\n",
       "      <td>POLYGON ((363078.556 411480.529, 363041.920 41...</td>\n",
       "      <td>1251</td>\n",
       "      <td>5891</td>\n",
       "    </tr>\n",
       "    <tr>\n",
       "      <th>4</th>\n",
       "      <td>E02000988</td>\n",
       "      <td>Bolton 005</td>\n",
       "      <td>POLYGON ((371044.136 412457.779, 371567.570 41...</td>\n",
       "      <td>2176</td>\n",
       "      <td>6749</td>\n",
       "    </tr>\n",
       "    <tr>\n",
       "      <th>...</th>\n",
       "      <td>...</td>\n",
       "      <td>...</td>\n",
       "      <td>...</td>\n",
       "      <td>...</td>\n",
       "      <td>...</td>\n",
       "    </tr>\n",
       "    <tr>\n",
       "      <th>5801</th>\n",
       "      <td>E02006922</td>\n",
       "      <td>Colchester 022</td>\n",
       "      <td>MULTIPOLYGON (((601481.105 224815.326, 601485....</td>\n",
       "      <td>2699</td>\n",
       "      <td>11342</td>\n",
       "    </tr>\n",
       "    <tr>\n",
       "      <th>5802</th>\n",
       "      <td>E02006926</td>\n",
       "      <td>Thurrock 020</td>\n",
       "      <td>POLYGON ((561100.600 178929.667, 560928.979 17...</td>\n",
       "      <td>2342</td>\n",
       "      <td>5982</td>\n",
       "    </tr>\n",
       "    <tr>\n",
       "      <th>5803</th>\n",
       "      <td>E02006932</td>\n",
       "      <td>Liverpool 060</td>\n",
       "      <td>POLYGON ((335757.632 390987.474, 335739.219 39...</td>\n",
       "      <td>511</td>\n",
       "      <td>18899</td>\n",
       "    </tr>\n",
       "    <tr>\n",
       "      <th>5804</th>\n",
       "      <td>E02006933</td>\n",
       "      <td>Liverpool 061</td>\n",
       "      <td>POLYGON ((335096.788 389638.891, 334715.024 38...</td>\n",
       "      <td>654</td>\n",
       "      <td>8174</td>\n",
       "    </tr>\n",
       "    <tr>\n",
       "      <th>5805</th>\n",
       "      <td>E02006934</td>\n",
       "      <td>Liverpool 062</td>\n",
       "      <td>POLYGON ((334805.261 391362.101, 334590.333 39...</td>\n",
       "      <td>373</td>\n",
       "      <td>8365</td>\n",
       "    </tr>\n",
       "  </tbody>\n",
       "</table>\n",
       "<p>5806 rows × 5 columns</p>\n",
       "</div>"
      ],
      "text/plain": [
       "       MSOA11CD        MSOA11NM  \\\n",
       "0     E02000984      Bolton 001   \n",
       "1     E02000985      Bolton 002   \n",
       "2     E02000986      Bolton 003   \n",
       "3     E02000987      Bolton 004   \n",
       "4     E02000988      Bolton 005   \n",
       "...         ...             ...   \n",
       "5801  E02006922  Colchester 022   \n",
       "5802  E02006926    Thurrock 020   \n",
       "5803  E02006932   Liverpool 060   \n",
       "5804  E02006933   Liverpool 061   \n",
       "5805  E02006934   Liverpool 062   \n",
       "\n",
       "                                               geometry  pop0_17  pop18over  \n",
       "0     POLYGON ((372121.741 414318.582, 372147.184 41...     1462       5998  \n",
       "1     POLYGON ((372971.325 411456.076, 373104.966 41...     1328       5968  \n",
       "2     POLYGON ((372147.184 413616.095, 372503.949 41...     1714       6758  \n",
       "3     POLYGON ((363078.556 411480.529, 363041.920 41...     1251       5891  \n",
       "4     POLYGON ((371044.136 412457.779, 371567.570 41...     2176       6749  \n",
       "...                                                 ...      ...        ...  \n",
       "5801  MULTIPOLYGON (((601481.105 224815.326, 601485....     2699      11342  \n",
       "5802  POLYGON ((561100.600 178929.667, 560928.979 17...     2342       5982  \n",
       "5803  POLYGON ((335757.632 390987.474, 335739.219 39...      511      18899  \n",
       "5804  POLYGON ((335096.788 389638.891, 334715.024 38...      654       8174  \n",
       "5805  POLYGON ((334805.261 391362.101, 334590.333 39...      373       8365  \n",
       "\n",
       "[5806 rows x 5 columns]"
      ]
     },
     "execution_count": 50,
     "metadata": {},
     "output_type": "execute_result"
    }
   ],
   "source": [
    "MSOA_excludeLondon"
   ]
  },
  {
   "cell_type": "code",
   "execution_count": 32,
   "metadata": {},
   "outputs": [
    {
     "data": {
      "text/html": [
       "<div>\n",
       "<style scoped>\n",
       "    .dataframe tbody tr th:only-of-type {\n",
       "        vertical-align: middle;\n",
       "    }\n",
       "\n",
       "    .dataframe tbody tr th {\n",
       "        vertical-align: top;\n",
       "    }\n",
       "\n",
       "    .dataframe thead th {\n",
       "        text-align: right;\n",
       "    }\n",
       "</style>\n",
       "<table border=\"1\" class=\"dataframe\">\n",
       "  <thead>\n",
       "    <tr style=\"text-align: right;\">\n",
       "      <th></th>\n",
       "      <th>objectid</th>\n",
       "      <th>msoa11cd</th>\n",
       "      <th>geometry</th>\n",
       "      <th>pop0_17</th>\n",
       "      <th>pop18over</th>\n",
       "    </tr>\n",
       "  </thead>\n",
       "  <tbody>\n",
       "    <tr>\n",
       "      <th>0</th>\n",
       "      <td>1</td>\n",
       "      <td>E02002536</td>\n",
       "      <td>POINT (445582.345 524175.434)</td>\n",
       "      <td>2171</td>\n",
       "      <td>7556</td>\n",
       "    </tr>\n",
       "    <tr>\n",
       "      <th>1</th>\n",
       "      <td>2</td>\n",
       "      <td>E02002537</td>\n",
       "      <td>POINT (446777.151 524256.841)</td>\n",
       "      <td>2286</td>\n",
       "      <td>6293</td>\n",
       "    </tr>\n",
       "    <tr>\n",
       "      <th>2</th>\n",
       "      <td>3</td>\n",
       "      <td>E02002534</td>\n",
       "      <td>POINT (461356.929 515118.900)</td>\n",
       "      <td>833</td>\n",
       "      <td>4806</td>\n",
       "    </tr>\n",
       "    <tr>\n",
       "      <th>3</th>\n",
       "      <td>4</td>\n",
       "      <td>E02002535</td>\n",
       "      <td>POINT (446117.027 525455.836)</td>\n",
       "      <td>1640</td>\n",
       "      <td>7615</td>\n",
       "    </tr>\n",
       "    <tr>\n",
       "      <th>4</th>\n",
       "      <td>5</td>\n",
       "      <td>E02002532</td>\n",
       "      <td>POINT (461053.212 516175.379)</td>\n",
       "      <td>1248</td>\n",
       "      <td>5559</td>\n",
       "    </tr>\n",
       "    <tr>\n",
       "      <th>...</th>\n",
       "      <td>...</td>\n",
       "      <td>...</td>\n",
       "      <td>...</td>\n",
       "      <td>...</td>\n",
       "      <td>...</td>\n",
       "    </tr>\n",
       "    <tr>\n",
       "      <th>6786</th>\n",
       "      <td>6787</td>\n",
       "      <td>E02004669</td>\n",
       "      <td>POINT (393469.114 227500.260)</td>\n",
       "      <td>1468</td>\n",
       "      <td>6161</td>\n",
       "    </tr>\n",
       "    <tr>\n",
       "      <th>6787</th>\n",
       "      <td>6788</td>\n",
       "      <td>E02006096</td>\n",
       "      <td>POINT (332829.367 109219.836)</td>\n",
       "      <td>1451</td>\n",
       "      <td>5570</td>\n",
       "    </tr>\n",
       "    <tr>\n",
       "      <th>6788</th>\n",
       "      <td>6789</td>\n",
       "      <td>E02003088</td>\n",
       "      <td>POINT (343276.340 158947.520)</td>\n",
       "      <td>1706</td>\n",
       "      <td>6910</td>\n",
       "    </tr>\n",
       "    <tr>\n",
       "      <th>6789</th>\n",
       "      <td>6790</td>\n",
       "      <td>E02006070</td>\n",
       "      <td>POINT (331710.269 136880.200)</td>\n",
       "      <td>1893</td>\n",
       "      <td>6627</td>\n",
       "    </tr>\n",
       "    <tr>\n",
       "      <th>6790</th>\n",
       "      <td>6791</td>\n",
       "      <td>E02006679</td>\n",
       "      <td>POINT (390561.555 162786.953)</td>\n",
       "      <td>2572</td>\n",
       "      <td>9007</td>\n",
       "    </tr>\n",
       "  </tbody>\n",
       "</table>\n",
       "<p>6791 rows × 5 columns</p>\n",
       "</div>"
      ],
      "text/plain": [
       "      objectid   msoa11cd                       geometry  pop0_17  pop18over\n",
       "0            1  E02002536  POINT (445582.345 524175.434)     2171       7556\n",
       "1            2  E02002537  POINT (446777.151 524256.841)     2286       6293\n",
       "2            3  E02002534  POINT (461356.929 515118.900)      833       4806\n",
       "3            4  E02002535  POINT (446117.027 525455.836)     1640       7615\n",
       "4            5  E02002532  POINT (461053.212 516175.379)     1248       5559\n",
       "...        ...        ...                            ...      ...        ...\n",
       "6786      6787  E02004669  POINT (393469.114 227500.260)     1468       6161\n",
       "6787      6788  E02006096  POINT (332829.367 109219.836)     1451       5570\n",
       "6788      6789  E02003088  POINT (343276.340 158947.520)     1706       6910\n",
       "6789      6790  E02006070  POINT (331710.269 136880.200)     1893       6627\n",
       "6790      6791  E02006679  POINT (390561.555 162786.953)     2572       9007\n",
       "\n",
       "[6791 rows x 5 columns]"
      ]
     },
     "execution_count": 32,
     "metadata": {},
     "output_type": "execute_result"
    }
   ],
   "source": [
    "demand"
   ]
  },
  {
   "cell_type": "code",
   "execution_count": 8,
   "metadata": {},
   "outputs": [
    {
     "data": {
      "text/html": [
       "<div>\n",
       "<style scoped>\n",
       "    .dataframe tbody tr th:only-of-type {\n",
       "        vertical-align: middle;\n",
       "    }\n",
       "\n",
       "    .dataframe tbody tr th {\n",
       "        vertical-align: top;\n",
       "    }\n",
       "\n",
       "    .dataframe thead th {\n",
       "        text-align: right;\n",
       "    }\n",
       "</style>\n",
       "<table border=\"1\" class=\"dataframe\">\n",
       "  <thead>\n",
       "    <tr style=\"text-align: right;\">\n",
       "      <th></th>\n",
       "      <th>MSOA11CD</th>\n",
       "      <th>MSOA11NM</th>\n",
       "      <th>geometry</th>\n",
       "      <th>pop0_17</th>\n",
       "      <th>pop18over</th>\n",
       "    </tr>\n",
       "  </thead>\n",
       "  <tbody>\n",
       "    <tr>\n",
       "      <th>0</th>\n",
       "      <td>E02000984</td>\n",
       "      <td>Bolton 001</td>\n",
       "      <td>POLYGON ((372121.741 414318.582, 372147.184 41...</td>\n",
       "      <td>1462</td>\n",
       "      <td>5998</td>\n",
       "    </tr>\n",
       "    <tr>\n",
       "      <th>1</th>\n",
       "      <td>E02000985</td>\n",
       "      <td>Bolton 002</td>\n",
       "      <td>POLYGON ((372971.325 411456.076, 373104.966 41...</td>\n",
       "      <td>1328</td>\n",
       "      <td>5968</td>\n",
       "    </tr>\n",
       "    <tr>\n",
       "      <th>2</th>\n",
       "      <td>E02000986</td>\n",
       "      <td>Bolton 003</td>\n",
       "      <td>POLYGON ((372147.184 413616.095, 372503.949 41...</td>\n",
       "      <td>1714</td>\n",
       "      <td>6758</td>\n",
       "    </tr>\n",
       "    <tr>\n",
       "      <th>3</th>\n",
       "      <td>E02000987</td>\n",
       "      <td>Bolton 004</td>\n",
       "      <td>POLYGON ((363078.556 411480.529, 363041.920 41...</td>\n",
       "      <td>1251</td>\n",
       "      <td>5891</td>\n",
       "    </tr>\n",
       "    <tr>\n",
       "      <th>4</th>\n",
       "      <td>E02000988</td>\n",
       "      <td>Bolton 005</td>\n",
       "      <td>POLYGON ((371044.136 412457.779, 371567.570 41...</td>\n",
       "      <td>2176</td>\n",
       "      <td>6749</td>\n",
       "    </tr>\n",
       "    <tr>\n",
       "      <th>...</th>\n",
       "      <td>...</td>\n",
       "      <td>...</td>\n",
       "      <td>...</td>\n",
       "      <td>...</td>\n",
       "      <td>...</td>\n",
       "    </tr>\n",
       "    <tr>\n",
       "      <th>5803</th>\n",
       "      <td>E02006922</td>\n",
       "      <td>Colchester 022</td>\n",
       "      <td>MULTIPOLYGON (((601481.105 224815.326, 601485....</td>\n",
       "      <td>2699</td>\n",
       "      <td>11342</td>\n",
       "    </tr>\n",
       "    <tr>\n",
       "      <th>5804</th>\n",
       "      <td>E02006926</td>\n",
       "      <td>Thurrock 020</td>\n",
       "      <td>POLYGON ((561100.600 178929.667, 560928.979 17...</td>\n",
       "      <td>2342</td>\n",
       "      <td>5982</td>\n",
       "    </tr>\n",
       "    <tr>\n",
       "      <th>5805</th>\n",
       "      <td>E02006932</td>\n",
       "      <td>Liverpool 060</td>\n",
       "      <td>POLYGON ((335757.632 390987.474, 335739.219 39...</td>\n",
       "      <td>511</td>\n",
       "      <td>18899</td>\n",
       "    </tr>\n",
       "    <tr>\n",
       "      <th>5806</th>\n",
       "      <td>E02006933</td>\n",
       "      <td>Liverpool 061</td>\n",
       "      <td>POLYGON ((335096.788 389638.891, 334715.024 38...</td>\n",
       "      <td>654</td>\n",
       "      <td>8174</td>\n",
       "    </tr>\n",
       "    <tr>\n",
       "      <th>5807</th>\n",
       "      <td>E02006934</td>\n",
       "      <td>Liverpool 062</td>\n",
       "      <td>POLYGON ((334805.261 391362.101, 334590.333 39...</td>\n",
       "      <td>373</td>\n",
       "      <td>8365</td>\n",
       "    </tr>\n",
       "  </tbody>\n",
       "</table>\n",
       "<p>5808 rows × 5 columns</p>\n",
       "</div>"
      ],
      "text/plain": [
       "       MSOA11CD        MSOA11NM  \\\n",
       "0     E02000984      Bolton 001   \n",
       "1     E02000985      Bolton 002   \n",
       "2     E02000986      Bolton 003   \n",
       "3     E02000987      Bolton 004   \n",
       "4     E02000988      Bolton 005   \n",
       "...         ...             ...   \n",
       "5803  E02006922  Colchester 022   \n",
       "5804  E02006926    Thurrock 020   \n",
       "5805  E02006932   Liverpool 060   \n",
       "5806  E02006933   Liverpool 061   \n",
       "5807  E02006934   Liverpool 062   \n",
       "\n",
       "                                               geometry  pop0_17  pop18over  \n",
       "0     POLYGON ((372121.741 414318.582, 372147.184 41...     1462       5998  \n",
       "1     POLYGON ((372971.325 411456.076, 373104.966 41...     1328       5968  \n",
       "2     POLYGON ((372147.184 413616.095, 372503.949 41...     1714       6758  \n",
       "3     POLYGON ((363078.556 411480.529, 363041.920 41...     1251       5891  \n",
       "4     POLYGON ((371044.136 412457.779, 371567.570 41...     2176       6749  \n",
       "...                                                 ...      ...        ...  \n",
       "5803  MULTIPOLYGON (((601481.105 224815.326, 601485....     2699      11342  \n",
       "5804  POLYGON ((561100.600 178929.667, 560928.979 17...     2342       5982  \n",
       "5805  POLYGON ((335757.632 390987.474, 335739.219 39...      511      18899  \n",
       "5806  POLYGON ((335096.788 389638.891, 334715.024 38...      654       8174  \n",
       "5807  POLYGON ((334805.261 391362.101, 334590.333 39...      373       8365  \n",
       "\n",
       "[5808 rows x 5 columns]"
      ]
     },
     "execution_count": 8,
     "metadata": {},
     "output_type": "execute_result"
    }
   ],
   "source": [
    "MSOA = pd.merge(left=msoa, right=df, how='left', left_on='MSOA11CD', right_on='MSOA')\n",
    "MSOA.drop(columns=['MSOA','OBJECTID'], axis=1,inplace=True)\n",
    "LA_MSOA = pd.read_csv('LA_MSOA_code.csv', low_memory=False)\n",
    "aaa = pd.merge(left=MSOA, right=LA_MSOA, how='left', left_on='MSOA11CD', right_on='MSOA Code')\n",
    "aaa.drop(columns=['LA_name_2020','MSOA Code'], axis=1,inplace=True)\n",
    "London = gpd.read_file('London_Boroughs.gpkg')\n",
    "London = London.to_crs('epsg:27700')\n",
    "London.drop(columns=['objectid','name','hectares','nonld_area','ons_inner','sub_2011','geometry'], axis=1,inplace=True)\n",
    "aaa = pd.merge(left=aaa, right=London, how='left', left_on='LA_Code_2020', right_on='gss_code')\n",
    "MSOA_excludeLondon_base=aaa[aaa.isnull().T.any()].reset_index()\n",
    "MSOA_excludeLondon_base.drop(columns=['index','LA_Code_2020','gss_code'], axis=1,inplace=True)\n",
    "MSOA_excludeLondon_base"
   ]
  },
  {
   "cell_type": "code",
   "execution_count": 9,
   "metadata": {},
   "outputs": [],
   "source": [
    "MSOA_excludeLondon_base.to_file(\"MSOA_Boundary_with_population_base.gpkg\", driver=\"GPKG\")"
   ]
  }
 ],
 "metadata": {
  "kernelspec": {
   "display_name": "Python 3 (ipykernel)",
   "language": "python",
   "name": "python3"
  },
  "language_info": {
   "codemirror_mode": {
    "name": "ipython",
    "version": 3
   },
   "file_extension": ".py",
   "mimetype": "text/x-python",
   "name": "python",
   "nbconvert_exporter": "python",
   "pygments_lexer": "ipython3",
   "version": "3.9.6"
  }
 },
 "nbformat": 4,
 "nbformat_minor": 4
}
