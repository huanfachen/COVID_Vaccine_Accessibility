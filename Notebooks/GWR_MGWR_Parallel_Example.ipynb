{
 "cells": [
  {
   "cell_type": "code",
   "execution_count": 10,
   "metadata": {},
   "outputs": [],
   "source": [
    "import numpy as np\n",
    "import geopandas as gp\n",
    "import multiprocessing as mp\n",
    "import libpysal as ps\n",
    "import sys\n",
    "# sys.path.append('/Users/Ziqi/Desktop/mgwr/')\n",
    "from mgwr.gwr import GWR,MGWR\n",
    "from mgwr.sel_bw import Sel_BW"
   ]
  },
  {
   "cell_type": "code",
   "execution_count": 11,
   "metadata": {},
   "outputs": [],
   "source": [
    "import mgwr"
   ]
  },
  {
   "cell_type": "code",
   "execution_count": 12,
   "metadata": {},
   "outputs": [],
   "source": [
    "#Load Berlin example\n",
    "prenz = gp.read_file(ps.examples.get_path('prenzlauer.zip'))"
   ]
  },
  {
   "cell_type": "code",
   "execution_count": 13,
   "metadata": {},
   "outputs": [],
   "source": [
    "b_y = np.log(prenz['price'].values.reshape((-1, 1)))\n",
    "b_X = prenz[['review_sco','accommodat','bathrooms']].values \n",
    "b_X = (b_X - b_X.mean(axis=0)) / b_X.std(axis=0)\n",
    "b_y = (b_y - b_y.mean(axis=0)) / b_y.std(axis=0)\n",
    "u = prenz['X']\n",
    "v = prenz['Y']\n",
    "b_coords = list(zip(u, v))"
   ]
  },
  {
   "cell_type": "code",
   "execution_count": 14,
   "metadata": {},
   "outputs": [
    {
     "name": "stdout",
     "output_type": "stream",
     "text": [
      "env: OMP_NUM_THREADS=1\n"
     ]
    }
   ],
   "source": [
    "#This might be needed to turn off the OpenMP multi-threading\n",
    "%env OMP_NUM_THREADS = 1"
   ]
  },
  {
   "cell_type": "markdown",
   "metadata": {},
   "source": [
    "### GWR No Parallel"
   ]
  },
  {
   "cell_type": "code",
   "execution_count": 15,
   "metadata": {},
   "outputs": [
    {
     "name": "stdout",
     "output_type": "stream",
     "text": [
      "192.0\n",
      "CPU times: user 2min 46s, sys: 9min 24s, total: 12min 11s\n",
      "Wall time: 46.8 s\n"
     ]
    }
   ],
   "source": [
    "%%time\n",
    "gwr_selector = Sel_BW(b_coords, b_y, b_X)\n",
    "gwr_bw = gwr_selector.search()\n",
    "print(gwr_bw)\n",
    "gwr_results = GWR(b_coords, b_y, b_X, gwr_bw).fit()"
   ]
  },
  {
   "cell_type": "markdown",
   "metadata": {},
   "source": [
    "### MGWR No Parallel"
   ]
  },
  {
   "cell_type": "code",
   "execution_count": 16,
   "metadata": {},
   "outputs": [
    {
     "data": {
      "application/vnd.jupyter.widget-view+json": {
       "model_id": "58ad5045a7b7450e9fb42878351228d1",
       "version_major": 2,
       "version_minor": 0
      },
      "text/plain": [
       "Backfitting:   0%|          | 0/200 [00:00<?, ?it/s]"
      ]
     },
     "metadata": {},
     "output_type": "display_data"
    },
    {
     "name": "stdout",
     "output_type": "stream",
     "text": [
      "[ 191. 1279.   79. 2200.]\n"
     ]
    },
    {
     "data": {
      "application/vnd.jupyter.widget-view+json": {
       "model_id": "280d080400864c78b932c618c03c0851",
       "version_major": 2,
       "version_minor": 0
      },
      "text/plain": [
       "Inference:   0%|          | 0/1 [00:00<?, ?it/s]"
      ]
     },
     "metadata": {},
     "output_type": "display_data"
    },
    {
     "name": "stdout",
     "output_type": "stream",
     "text": [
      "CPU times: user 31min 1s, sys: 1h 41min 50s, total: 2h 12min 52s\n",
      "Wall time: 8min 21s\n"
     ]
    }
   ],
   "source": [
    "%%time\n",
    "mgwr_selector = Sel_BW(b_coords, b_y, b_X, multi=True)\n",
    "mgwr_bw = mgwr_selector.search()\n",
    "print(mgwr_bw)\n",
    "mgwr_results = MGWR(b_coords, b_y, b_X, selector=mgwr_selector).fit()"
   ]
  },
  {
   "cell_type": "code",
   "execution_count": 17,
   "metadata": {},
   "outputs": [],
   "source": [
    "#Parrallelization is more favored when you your data are large and/or your machine have many many cores.\n",
    "#mgwr has soft dependency of numba, please install numba if you need better performance (pip install numba).\n",
    "\n",
    "n_proc = 2 #two processors\n",
    "pool = mp.Pool(n_proc) "
   ]
  },
  {
   "cell_type": "markdown",
   "metadata": {},
   "source": [
    "### GWR Parallel"
   ]
  },
  {
   "cell_type": "code",
   "execution_count": 18,
   "metadata": {},
   "outputs": [
    {
     "name": "stdout",
     "output_type": "stream",
     "text": [
      "192.0\n",
      "CPU times: user 1.51 s, sys: 0 ns, total: 1.51 s\n",
      "Wall time: 30.1 s\n"
     ]
    }
   ],
   "source": [
    "%%time\n",
    "gwr_selector = Sel_BW(b_coords, b_y, b_X)\n",
    "gwr_bw = gwr_selector.search(pool=pool) #add pool to Sel_BW.search\n",
    "print(gwr_bw)\n",
    "gwr_results = GWR(b_coords, b_y, b_X, gwr_bw).fit(pool=pool) #add pool to GWR.fit"
   ]
  },
  {
   "cell_type": "markdown",
   "metadata": {},
   "source": [
    "### MGWR Parallel"
   ]
  },
  {
   "cell_type": "code",
   "execution_count": 19,
   "metadata": {},
   "outputs": [
    {
     "data": {
      "application/vnd.jupyter.widget-view+json": {
       "model_id": "8da0654365bd4c9297b1fc8ecee449a1",
       "version_major": 2,
       "version_minor": 0
      },
      "text/plain": [
       "Backfitting:   0%|          | 0/200 [00:00<?, ?it/s]"
      ]
     },
     "metadata": {},
     "output_type": "display_data"
    },
    {
     "name": "stdout",
     "output_type": "stream",
     "text": [
      "[ 191. 1279.   79. 2200.]\n"
     ]
    },
    {
     "data": {
      "application/vnd.jupyter.widget-view+json": {
       "model_id": "3ba64fd06bdb4358b0f62ed5b7a51bb0",
       "version_major": 2,
       "version_minor": 0
      },
      "text/plain": [
       "Inference:   0%|          | 0/2 [00:00<?, ?it/s]"
      ]
     },
     "metadata": {},
     "output_type": "display_data"
    },
    {
     "name": "stdout",
     "output_type": "stream",
     "text": [
      "CPU times: user 29.2 s, sys: 0 ns, total: 29.2 s\n",
      "Wall time: 6min 41s\n"
     ]
    }
   ],
   "source": [
    "%%time\n",
    "mgwr_selector = Sel_BW(b_coords, b_y, b_X, multi=True)\n",
    "mgwr_bw = mgwr_selector.search(pool=pool) #add pool to Sel_BW.search\n",
    "print(mgwr_bw)\n",
    "mgwr_results = MGWR(b_coords, b_y, b_X, selector=mgwr_selector).fit(pool=pool) #add pool to MGWR.fit"
   ]
  },
  {
   "cell_type": "code",
   "execution_count": 20,
   "metadata": {},
   "outputs": [],
   "source": [
    "pool.close() # Close the pool when you finish\n",
    "pool.join()"
   ]
  }
 ],
 "metadata": {
  "kernelspec": {
   "display_name": "Python 3 (ipykernel)",
   "language": "python",
   "name": "python3"
  },
  "language_info": {
   "codemirror_mode": {
    "name": "ipython",
    "version": 3
   },
   "file_extension": ".py",
   "mimetype": "text/x-python",
   "name": "python",
   "nbconvert_exporter": "python",
   "pygments_lexer": "ipython3",
   "version": "3.9.6"
  }
 },
 "nbformat": 4,
 "nbformat_minor": 4
}
